{
  "nbformat": 4,
  "nbformat_minor": 0,
  "metadata": {
    "kernelspec": {
      "display_name": "Python 3",
      "language": "python",
      "name": "python3"
    },
    "language_info": {
      "codemirror_mode": {
        "name": "ipython",
        "version": 3
      },
      "file_extension": ".py",
      "mimetype": "text/x-python",
      "name": "python",
      "nbconvert_exporter": "python",
      "pygments_lexer": "ipython3",
      "version": "3.7.6"
    },
    "colab": {
      "name": "funcoes.ipynb",
      "provenance": [],
      "include_colab_link": true
    }
  },
  "cells": [
    {
      "cell_type": "markdown",
      "metadata": {
        "id": "view-in-github",
        "colab_type": "text"
      },
      "source": [
        "<a href=\"https://colab.research.google.com/github/avellar1975/puc_minas/blob/main/notebooks/funcoes.ipynb\" target=\"_parent\"><img src=\"https://colab.research.google.com/assets/colab-badge.svg\" alt=\"Open In Colab\"/></a>"
      ]
    },
    {
      "cell_type": "markdown",
      "metadata": {
        "id": "kBAeIlmfYGuj"
      },
      "source": [
        "# Python: Lambda,Map,Filter,Reduce and Zip function\n",
        "> Evandro Avellar"
      ]
    },
    {
      "cell_type": "markdown",
      "metadata": {
        "id": "ryom2H8vYGuk"
      },
      "source": [
        "## Funções/expressões lambda\n",
        "\n",
        "Também chamada de funções **anônimas**, são funções definidas anonimamente e em uma única linha."
      ]
    },
    {
      "cell_type": "markdown",
      "metadata": {
        "id": "Z-IrMzQcYGul"
      },
      "source": [
        "Quando utilizamos uma função nomeada, **def**inimos um nome para a função e esse nome pode ser invocado posteriormente. Veja o exemplo:"
      ]
    },
    {
      "cell_type": "code",
      "metadata": {
        "id": "h0Wfzg5UYGum"
      },
      "source": [
        "def potencia(num, pot):\n",
        "    result = num ** pot\n",
        "    return result"
      ],
      "execution_count": null,
      "outputs": []
    },
    {
      "cell_type": "code",
      "metadata": {
        "id": "R6KDZDdMYGun",
        "outputId": "781b3051-df8d-4526-a950-ab562399eaa4"
      },
      "source": [
        "potencia(3, 5)"
      ],
      "execution_count": null,
      "outputs": [
        {
          "output_type": "execute_result",
          "data": {
            "text/plain": [
              "243"
            ]
          },
          "metadata": {
            "tags": []
          },
          "execution_count": 5
        }
      ]
    },
    {
      "cell_type": "markdown",
      "metadata": {
        "id": "Rh9DxZuKYGuo"
      },
      "source": [
        "Uma forma mais concisa seria já passar no ```return``` a operação:"
      ]
    },
    {
      "cell_type": "code",
      "metadata": {
        "id": "3BM7XZZnYGuo"
      },
      "source": [
        "def potencia(num, pot):    \n",
        "    return num ** pot"
      ],
      "execution_count": null,
      "outputs": []
    },
    {
      "cell_type": "code",
      "metadata": {
        "id": "fyNm4bkeYGup",
        "outputId": "2d67a200-bb82-4bde-8751-0514ef42c7f2"
      },
      "source": [
        "potencia(2, 5)"
      ],
      "execution_count": null,
      "outputs": [
        {
          "output_type": "execute_result",
          "data": {
            "text/plain": [
              "32"
            ]
          },
          "metadata": {
            "tags": []
          },
          "execution_count": 7
        }
      ]
    },
    {
      "cell_type": "markdown",
      "metadata": {
        "id": "Imy_JjE4YGup"
      },
      "source": [
        "Ou até mesmo definir numa única linha:"
      ]
    },
    {
      "cell_type": "code",
      "metadata": {
        "id": "-f4OebcDYGuq"
      },
      "source": [
        "def potencia(num, pot): return num ** pot"
      ],
      "execution_count": null,
      "outputs": []
    },
    {
      "cell_type": "code",
      "metadata": {
        "id": "eMwm5abPYGuq",
        "outputId": "e4d7c2bc-faa2-403b-f4fe-8bc653553890"
      },
      "source": [
        "potencia(5,2)"
      ],
      "execution_count": null,
      "outputs": [
        {
          "output_type": "execute_result",
          "data": {
            "text/plain": [
              "25"
            ]
          },
          "metadata": {
            "tags": []
          },
          "execution_count": 10
        }
      ]
    },
    {
      "cell_type": "markdown",
      "metadata": {
        "id": "xgaMEzyeYGuq"
      },
      "source": [
        "Funções lambda nada mais são do que funções anônimas. Enquanto funções normais podem ser criada utilizando def como prefixo, as funções lambda são criadas utilizando lambda. Não tem nada muito complicado aqui. Para criar uma função lambda você deve utilizar a seguinte sintaxe:"
      ]
    },
    {
      "cell_type": "markdown",
      "metadata": {
        "id": "gkI9HWv-YGuu"
      },
      "source": [
        "> **Syntax:** lambda *arguments* : expression\n"
      ]
    },
    {
      "cell_type": "markdown",
      "metadata": {
        "id": "FL9MsszeYGuu"
      },
      "source": [
        "Vale notar que as funções lambda não utilizam a keyword return pois o retorno dentro de lambda é implícito."
      ]
    },
    {
      "cell_type": "markdown",
      "metadata": {
        "id": "MEcy6oxKYGuv"
      },
      "source": [
        "Se definida dessa forma, a expressão ```lambda``` fica sem referência para uso posterior."
      ]
    },
    {
      "cell_type": "code",
      "metadata": {
        "id": "vt6Ob3p7YGuv",
        "outputId": "01d57215-7898-4c21-9287-69672126e7b5"
      },
      "source": [
        "lambda num, pot: num ** pot"
      ],
      "execution_count": null,
      "outputs": [
        {
          "output_type": "execute_result",
          "data": {
            "text/plain": [
              "<function __main__.<lambda>(num, pot)>"
            ]
          },
          "metadata": {
            "tags": []
          },
          "execution_count": 12
        }
      ]
    },
    {
      "cell_type": "code",
      "metadata": {
        "colab": {
          "base_uri": "https://localhost:8080/"
        },
        "id": "yPbxEFlpdM3Y",
        "outputId": "d462b4a3-0b83-45dd-b705-6fd5e02dbddd"
      },
      "source": [
        "add=lambda a,b,c: print(a+b+c)\n",
        "add(4, 5, 1)"
      ],
      "execution_count": 20,
      "outputs": [
        {
          "output_type": "stream",
          "text": [
            "10\n"
          ],
          "name": "stdout"
        }
      ]
    },
    {
      "cell_type": "code",
      "metadata": {
        "id": "FQyDnHAqYGuv"
      },
      "source": [
        "lambda_pot = lambda num, pot: num ** pot # Podemos então atribuir a expressão lambda "
      ],
      "execution_count": null,
      "outputs": []
    },
    {
      "cell_type": "code",
      "metadata": {
        "id": "sG7u0373YGuv",
        "outputId": "cc8326db-16fc-4baf-b0cb-3bacf43a6190"
      },
      "source": [
        "lambda_pot(3,4)"
      ],
      "execution_count": null,
      "outputs": [
        {
          "output_type": "execute_result",
          "data": {
            "text/plain": [
              "81"
            ]
          },
          "metadata": {
            "tags": []
          },
          "execution_count": 15
        }
      ]
    },
    {
      "cell_type": "code",
      "metadata": {
        "colab": {
          "base_uri": "https://localhost:8080/"
        },
        "id": "n62vjPHjdbfe",
        "outputId": "458f81f9-fe93-47be-edd4-7fb163d938ec"
      },
      "source": [
        "find_max=lambda a,b,c:a if a>b and a>c else (b if b>a and b>c else c)\n",
        "print(find_max(6,15,1))"
      ],
      "execution_count": 22,
      "outputs": [
        {
          "output_type": "stream",
          "text": [
            "15\n"
          ],
          "name": "stdout"
        }
      ]
    },
    {
      "cell_type": "markdown",
      "metadata": {
        "id": "vNOjbi-wYGuw"
      },
      "source": [
        "### Mas para que servem essas funções lambda?"
      ]
    },
    {
      "cell_type": "markdown",
      "metadata": {
        "id": "hZpxfJ25YGuw"
      },
      "source": [
        "Funções lambda funcionam da mesma forma que funções convencionais e, em geral, a escolha de adotar ou não seu uso é exclusivamente baseada em estilo de código.\n",
        "\n",
        "Mas vamos supor que você tenha um dicionário de dados com a seguinte estrutura:"
      ]
    },
    {
      "cell_type": "code",
      "metadata": {
        "id": "J0Y4SFpwYGuw"
      },
      "source": [
        "users = [\n",
        "  {\n",
        "    \"id\": 1, \n",
        "    \"name\": \"Allan\", \n",
        "    \"age\": 27, \n",
        "    \"profile_picture\": \"http://…\", \n",
        "    \"city\": \"São Paulo\"\n",
        "  },\n",
        "  {\n",
        "    \"id\": 2, \n",
        "    \"name\": \"Julie\", \n",
        "    \"age\": 29, \n",
        "    \"profile_picture\": \"http://…\", \n",
        "    \"city\": \"Curitiba\"\n",
        "  },\n",
        "  {\n",
        "    \"id\": 3, \n",
        "    \"name\": \"Pedro\", \n",
        "    \"age\": 31, \n",
        "    \"profile_picture\": \"http://…\", \n",
        "    \"city\": \"Rio de Janeiro\"\n",
        "  }\n",
        "]"
      ],
      "execution_count": null,
      "outputs": []
    },
    {
      "cell_type": "code",
      "metadata": {
        "id": "T-89dl6uYGux",
        "outputId": "c51d39e8-0ea0-4761-86b9-8602d52b482f"
      },
      "source": [
        "users"
      ],
      "execution_count": null,
      "outputs": [
        {
          "output_type": "execute_result",
          "data": {
            "text/plain": [
              "[{'id': 1,\n",
              "  'name': 'Allan',\n",
              "  'age': 27,\n",
              "  'profile_picture': 'http://…',\n",
              "  'city': 'São Paulo'},\n",
              " {'id': 2,\n",
              "  'name': 'Julie',\n",
              "  'age': 29,\n",
              "  'profile_picture': 'http://…',\n",
              "  'city': 'Curitiba'},\n",
              " {'id': 3,\n",
              "  'name': 'Pedro',\n",
              "  'age': 31,\n",
              "  'profile_picture': 'http://…',\n",
              "  'city': 'Rio de Janeiro'}]"
            ]
          },
          "metadata": {
            "tags": []
          },
          "execution_count": 17
        }
      ]
    },
    {
      "cell_type": "markdown",
      "metadata": {
        "id": "lgVpq2NeYGux"
      },
      "source": [
        "Você analisou tudo e viu que precisava fazer uma lista apenas com as pessoas que tem mais de 27 anos.\n",
        "Um exemplo com funções convencionais utilizando *def*:"
      ]
    },
    {
      "cell_type": "code",
      "metadata": {
        "id": "vIxI3rJ3YGux",
        "outputId": "3e6a9c7f-d8d5-46d1-a18b-0a8fbce82c60"
      },
      "source": [
        "# Crie a função que irá filtrar a lista\n",
        "def users_over_27(user):\n",
        "  return user[\"age\"] > 27\n",
        "\n",
        "# Filtramos os usuários utilizando o método filter\n",
        "filtered_users = filter(users_over_27, users)\n",
        "\n",
        "list(filtered_users)"
      ],
      "execution_count": null,
      "outputs": [
        {
          "output_type": "execute_result",
          "data": {
            "text/plain": [
              "[{'id': 2,\n",
              "  'name': 'Julie',\n",
              "  'age': 29,\n",
              "  'profile_picture': 'http://…',\n",
              "  'city': 'Curitiba'},\n",
              " {'id': 3,\n",
              "  'name': 'Pedro',\n",
              "  'age': 31,\n",
              "  'profile_picture': 'http://…',\n",
              "  'city': 'Rio de Janeiro'}]"
            ]
          },
          "metadata": {
            "tags": []
          },
          "execution_count": 18
        }
      ]
    },
    {
      "cell_type": "markdown",
      "metadata": {
        "id": "ut7Npx8cYGuy"
      },
      "source": [
        "Tudo bem que não é nada complicado e não temos muitas linhas de código, mas podemos simplificar ainda mais esse trecho de código e fazer tudo em uma linha só, utilizando lambda."
      ]
    },
    {
      "cell_type": "code",
      "metadata": {
        "id": "l1Fub_TYYGuy",
        "outputId": "03c0b1a6-18be-4b09-9915-219b05ffd911"
      },
      "source": [
        "filtered_users = filter(lambda user: user[\"age\"] > 27, users)\n",
        "\n",
        "list(filtered_users)"
      ],
      "execution_count": null,
      "outputs": [
        {
          "output_type": "execute_result",
          "data": {
            "text/plain": [
              "[{'id': 2,\n",
              "  'name': 'Julie',\n",
              "  'age': 29,\n",
              "  'profile_picture': 'http://…',\n",
              "  'city': 'Curitiba'},\n",
              " {'id': 3,\n",
              "  'name': 'Pedro',\n",
              "  'age': 31,\n",
              "  'profile_picture': 'http://…',\n",
              "  'city': 'Rio de Janeiro'}]"
            ]
          },
          "metadata": {
            "tags": []
          },
          "execution_count": 19
        }
      ]
    },
    {
      "cell_type": "markdown",
      "metadata": {
        "id": "XvpLD8BsYGuy"
      },
      "source": [
        "O legal disso é que podemos fazer tudo dentro de outra função, sem precisar criar uma função nomeada logo acima da função que estamos trabalhando. Sem falar que funções lambda são otimas para trabalhar com os métodos filter, reduce e map ou em casos onde precisamos repetir varias vezes certos trechos de código que não são tão complexos."
      ]
    },
    {
      "cell_type": "markdown",
      "metadata": {
        "id": "JqvXKuYpYGuy"
      },
      "source": [
        "### Mais exemplos de funções lambda"
      ]
    },
    {
      "cell_type": "code",
      "metadata": {
        "id": "D5y6XDYCYGuz",
        "outputId": "79330a19-c932-439d-8c44-74d7d328ea14"
      },
      "source": [
        "quadrado = lambda num: num * num\n",
        "quadrado(4)"
      ],
      "execution_count": null,
      "outputs": [
        {
          "output_type": "execute_result",
          "data": {
            "text/plain": [
              "16"
            ]
          },
          "metadata": {
            "tags": []
          },
          "execution_count": 20
        }
      ]
    },
    {
      "cell_type": "code",
      "metadata": {
        "id": "wmps1nUJYGuz",
        "outputId": "15bdb028-4720-4374-c2c4-534b53756b27"
      },
      "source": [
        "par = lambda num: num % 2 == 0\n",
        "par(3)"
      ],
      "execution_count": null,
      "outputs": [
        {
          "output_type": "execute_result",
          "data": {
            "text/plain": [
              "False"
            ]
          },
          "metadata": {
            "tags": []
          },
          "execution_count": 21
        }
      ]
    },
    {
      "cell_type": "code",
      "metadata": {
        "id": "1jvaqXmXYGuz",
        "outputId": "46df5fdb-5c91-4483-a187-122bbb619f2b"
      },
      "source": [
        "first = lambda x: x[0]\n",
        "first(\"Hello World\")"
      ],
      "execution_count": null,
      "outputs": [
        {
          "output_type": "execute_result",
          "data": {
            "text/plain": [
              "'H'"
            ]
          },
          "metadata": {
            "tags": []
          },
          "execution_count": 22
        }
      ]
    },
    {
      "cell_type": "code",
      "metadata": {
        "id": "eDSX5s2sYGu0",
        "outputId": "139877c3-1511-4184-e734-f12aade0121c"
      },
      "source": [
        "first([3, 2, 5, 4])"
      ],
      "execution_count": null,
      "outputs": [
        {
          "output_type": "execute_result",
          "data": {
            "text/plain": [
              "3"
            ]
          },
          "metadata": {
            "tags": []
          },
          "execution_count": 23
        }
      ]
    },
    {
      "cell_type": "code",
      "metadata": {
        "id": "SCXVd86-YGu0",
        "outputId": "3cf604ba-9636-4dbf-ea75-d19f6b578467"
      },
      "source": [
        "inverte = lambda x: x[::-1]\n",
        "inverte(\"Hello World\")"
      ],
      "execution_count": null,
      "outputs": [
        {
          "output_type": "execute_result",
          "data": {
            "text/plain": [
              "'dlroW olleH'"
            ]
          },
          "metadata": {
            "tags": []
          },
          "execution_count": 26
        }
      ]
    },
    {
      "cell_type": "code",
      "metadata": {
        "id": "NSjyrGyIYGu0",
        "outputId": "a2cef14d-fd68-4da9-a891-fd272c4e2479"
      },
      "source": [
        "inverte([1, 2, 3, 4])"
      ],
      "execution_count": null,
      "outputs": [
        {
          "output_type": "execute_result",
          "data": {
            "text/plain": [
              "[4, 3, 2, 1]"
            ]
          },
          "metadata": {
            "tags": []
          },
          "execution_count": 27
        }
      ]
    },
    {
      "cell_type": "markdown",
      "metadata": {
        "id": "NhDO83PiYGu0"
      },
      "source": [
        "## Funções map(), reduce(), filter() e zip()"
      ]
    },
    {
      "cell_type": "markdown",
      "metadata": {
        "id": "5amdeVjjYGu1"
      },
      "source": [
        "### map() - Faz o mapeamento de uma entrada para uma saída. Recebe 2 argumentos: função e iterável."
      ]
    },
    {
      "cell_type": "markdown",
      "metadata": {
        "id": "psqNSlAYd8hc"
      },
      "source": [
        "<img src='https://raw.githubusercontent.com/avellar1975/puc_minas/main/img/map.png'>"
      ]
    },
    {
      "cell_type": "markdown",
      "metadata": {
        "id": "WbztKcKyeFna"
      },
      "source": [
        "> **Syntax**: map(fun, iter)"
      ]
    },
    {
      "cell_type": "code",
      "metadata": {
        "colab": {
          "base_uri": "https://localhost:8080/"
        },
        "id": "8xjtQwM3ebF-",
        "outputId": "56f13897-8614-4bde-8980-ca2b24ef07f8"
      },
      "source": [
        "nums = [1, 2, 3, 4, 5]  \n",
        "def sq(n):    \n",
        "    return n*n  \n",
        "square = list(map(sq, nums))\n",
        "print(square)"
      ],
      "execution_count": 23,
      "outputs": [
        {
          "output_type": "stream",
          "text": [
            "[1, 4, 9, 16, 25]\n"
          ],
          "name": "stdout"
        }
      ]
    },
    {
      "cell_type": "markdown",
      "metadata": {
        "id": "u8iVZajMeizn"
      },
      "source": [
        "- Usando lambda"
      ]
    },
    {
      "cell_type": "code",
      "metadata": {
        "colab": {
          "base_uri": "https://localhost:8080/"
        },
        "id": "hhzaMydzelfM",
        "outputId": "554f4d19-bf03-46f5-8493-8abbd020c040"
      },
      "source": [
        "nums = [1, 2, 3, 4, 5]\n",
        "square = list(map(lambda x: x**x, nums))\n",
        "print(square)"
      ],
      "execution_count": 24,
      "outputs": [
        {
          "output_type": "stream",
          "text": [
            "[1, 4, 27, 256, 3125]\n"
          ],
          "name": "stdout"
        }
      ]
    },
    {
      "cell_type": "code",
      "metadata": {
        "colab": {
          "base_uri": "https://localhost:8080/"
        },
        "id": "Vin7GvQ8er27",
        "outputId": "e9f2e65a-137b-4618-a129-68cb787bb5b4"
      },
      "source": [
        "people = [\"lokesh\", \"bob\", \"tom\", \"developer\"]\n",
        "up = list(map(lambda x: x.upper(), people))\n",
        "print(up)"
      ],
      "execution_count": 25,
      "outputs": [
        {
          "output_type": "stream",
          "text": [
            "['LOKESH', 'BOB', 'TOM', 'DEVELOPER']\n"
          ],
          "name": "stdout"
        }
      ]
    },
    {
      "cell_type": "code",
      "metadata": {
        "colab": {
          "base_uri": "https://localhost:8080/"
        },
        "id": "73JRIOQGezBT",
        "outputId": "0852fe37-222c-49eb-d36f-5d82f1faf6e3"
      },
      "source": [
        "names = [\n",
        "    {'first': 'lokesh', 'last': 'sharma'},\n",
        "    {'first': 'Astha', 'last': 'verma'},\n",
        "    {'first': 'jiu', 'last': 'rai'}\n",
        " ]\n",
        "first_names = list(map(lambda x: x['first'], names))\n",
        "print(first_names)"
      ],
      "execution_count": 26,
      "outputs": [
        {
          "output_type": "stream",
          "text": [
            "['lokesh', 'Astha', 'jiu']\n"
          ],
          "name": "stdout"
        }
      ]
    },
    {
      "cell_type": "markdown",
      "metadata": {
        "id": "91FT-AzFYGu1"
      },
      "source": [
        "Conversão temperaturas Celsius em Fahrenheit\n",
        "\n",
        "* 1a solução (usando função para conversão e percorrer lista com for)"
      ]
    },
    {
      "cell_type": "code",
      "metadata": {
        "id": "FW0ZunugYGu1"
      },
      "source": [
        "def fahrenheit(C):\n",
        "    return (9/5)*C+32"
      ],
      "execution_count": null,
      "outputs": []
    },
    {
      "cell_type": "code",
      "metadata": {
        "id": "asCx7O88YGu1"
      },
      "source": [
        "temp_Celsius = [9, 22, 38, 0, -10, 15, 27]"
      ],
      "execution_count": null,
      "outputs": []
    },
    {
      "cell_type": "code",
      "metadata": {
        "id": "sEZtqYqyYGu1",
        "outputId": "a2f757cb-b676-4c5c-edcf-6351cb677ea0"
      },
      "source": [
        "for temp in temp_Celsius:\n",
        "    print(\"{}°C\".format(temp).rjust(8)+\" = \"+\"{}°F\".format(fahrenheit(temp)).rjust(8))"
      ],
      "execution_count": null,
      "outputs": [
        {
          "output_type": "stream",
          "text": [
            "     9°C =   48.2°F\n",
            "    22°C =   71.6°F\n",
            "    38°C =  100.4°F\n",
            "     0°C =   32.0°F\n",
            "   -10°C =   14.0°F\n",
            "    15°C =   59.0°F\n",
            "    27°C =   80.6°F\n"
          ],
          "name": "stdout"
        }
      ]
    },
    {
      "cell_type": "markdown",
      "metadata": {
        "id": "cYtLpkxOYGu2"
      },
      "source": [
        "> Sobre formação de strings: https://docs.python.org/pt-br/3/tutorial/inputoutput.html"
      ]
    },
    {
      "cell_type": "markdown",
      "metadata": {
        "id": "ZLjQQ-FFYGu2"
      },
      "source": [
        "* 2a solução (percorrer com for e usar função para gerar uma lista das temperaturas em F)"
      ]
    },
    {
      "cell_type": "code",
      "metadata": {
        "id": "7ihdtZtAYGu2",
        "outputId": "9f5401ad-fe11-4cc6-99e3-a3606d5f0372"
      },
      "source": [
        "temp_F = []\n",
        "for temp in temp_Celsius:\n",
        "    temp_F += [fahrenheit(temp)]\n",
        "temp_F"
      ],
      "execution_count": null,
      "outputs": [
        {
          "output_type": "execute_result",
          "data": {
            "text/plain": [
              "[48.2, 71.6, 100.4, 32.0, 14.0, 59.0, 80.6]"
            ]
          },
          "metadata": {
            "tags": []
          },
          "execution_count": 30
        }
      ]
    },
    {
      "cell_type": "markdown",
      "metadata": {
        "id": "z2tV8gBNYGu2"
      },
      "source": [
        "* 3a solução: usar função a função map() para iterar a lista das temperaturas em °C e gerar a lista em °F"
      ]
    },
    {
      "cell_type": "code",
      "metadata": {
        "id": "IUlJrqtJYGu3",
        "outputId": "cb7f4a41-8b5d-4948-ac10-3b3e1c84048c"
      },
      "source": [
        "temp_F2 = list(map(fahrenheit, temp_Celsius))\n",
        "temp_F2"
      ],
      "execution_count": null,
      "outputs": [
        {
          "output_type": "execute_result",
          "data": {
            "text/plain": [
              "[48.2, 71.6, 100.4, 32.0, 14.0, 59.0, 80.6]"
            ]
          },
          "metadata": {
            "tags": []
          },
          "execution_count": 31
        }
      ]
    },
    {
      "cell_type": "markdown",
      "metadata": {
        "id": "qbqm7UsgYGu3"
      },
      "source": [
        "* 4a solução: usar função a função map() para iterar a lista das temperaturas em °C e gerar a lista em °F\n",
        "- Dessa vez vamos usar uma função lambda no lugar da função fahrenheit"
      ]
    },
    {
      "cell_type": "code",
      "metadata": {
        "id": "6NWe0ejtYGu3",
        "outputId": "22cd63a6-ea72-4eab-d654-c117ef053d58"
      },
      "source": [
        "temp_F3 = list(map(lambda C: (9/5)*C+32, temp_Celsius))\n",
        "temp_F3"
      ],
      "execution_count": null,
      "outputs": [
        {
          "output_type": "execute_result",
          "data": {
            "text/plain": [
              "[48.2, 71.6, 100.4, 32.0, 14.0, 59.0, 80.6]"
            ]
          },
          "metadata": {
            "tags": []
          },
          "execution_count": 36
        }
      ]
    },
    {
      "cell_type": "markdown",
      "metadata": {
        "id": "Fnjqny0aaI23"
      },
      "source": [
        "### reduce() - Aplica uma função a todos os valores da estrutura de dados, dois a dois, de forma a agregá-los em um único valor. Recebe 2 argumentos: função e iterável."
      ]
    },
    {
      "cell_type": "markdown",
      "metadata": {
        "id": "9vpe0SuRa1P5"
      },
      "source": [
        "<img src='https://raw.githubusercontent.com/avellar1975/puc_minas/main/img/reduce.png'>"
      ]
    },
    {
      "cell_type": "markdown",
      "metadata": {
        "id": "BywXWNZBgCx_"
      },
      "source": [
        "<img src='https://raw.githubusercontent.com/avellar1975/puc_minas/main/img/reduce2.png'>"
      ]
    },
    {
      "cell_type": "code",
      "metadata": {
        "id": "yNePYRIvYGu3"
      },
      "source": [
        "from functools import reduce # Anteriormente era uma função built in do Python"
      ],
      "execution_count": 1,
      "outputs": []
    },
    {
      "cell_type": "code",
      "metadata": {
        "id": "gyohAlu1aNY5"
      },
      "source": [
        "numeros = [4, 2, 7, 1, 5, 9]"
      ],
      "execution_count": 2,
      "outputs": []
    },
    {
      "cell_type": "code",
      "metadata": {
        "id": "2Q8Omwu5bJNq"
      },
      "source": [
        "def soma(n1, n2):\n",
        "    \"\"\"\n",
        "    Retorna a soma entre os 2 números recebidos por parâmetro.\n",
        "    \"\"\"    \n",
        "    return n1 + n2"
      ],
      "execution_count": 3,
      "outputs": []
    },
    {
      "cell_type": "code",
      "metadata": {
        "colab": {
          "base_uri": "https://localhost:8080/"
        },
        "id": "GHOFLjy4bMLi",
        "outputId": "7ed6d97f-f83a-4d8e-b600-aed1ed1cf547"
      },
      "source": [
        "# Aplica a função soma em todos os valores da lista (dois a dois), retornando a soma de todos os elementos.\n",
        "print(reduce(soma, numeros))"
      ],
      "execution_count": 4,
      "outputs": [
        {
          "output_type": "stream",
          "text": [
            "28\n"
          ],
          "name": "stdout"
        }
      ]
    },
    {
      "cell_type": "code",
      "metadata": {
        "colab": {
          "base_uri": "https://localhost:8080/"
        },
        "id": "DkZeaas3bQGV",
        "outputId": "b486fe11-ff08-4b22-ff12-52a1e05e7ac1"
      },
      "source": [
        "# Aplica a função soma em todos os valores da lista (dois a dois), retornando a soma de todos os elementos.\n",
        "# Usa uma função lambda no lugar da função soma\n",
        "print(reduce(lambda n1, n2: n1+n2, numeros))"
      ],
      "execution_count": 5,
      "outputs": [
        {
          "output_type": "stream",
          "text": [
            "28\n"
          ],
          "name": "stdout"
        }
      ]
    },
    {
      "cell_type": "code",
      "metadata": {
        "id": "z5kLe_7hbV4t"
      },
      "source": [
        "# Definindo a função menor\n",
        "def menor(n1, n2):\n",
        "    \"\"\"\n",
        "    Retorna o menor entre os 2 números recebidos por parâmetro.\n",
        "    \"\"\"\n",
        "    if n1 < n2:\n",
        "        return n1\n",
        "    else:\n",
        "        return n2"
      ],
      "execution_count": 6,
      "outputs": []
    },
    {
      "cell_type": "code",
      "metadata": {
        "colab": {
          "base_uri": "https://localhost:8080/"
        },
        "id": "uHC1OziWba6h",
        "outputId": "60ff8e30-1c9b-4580-c437-338155a28452"
      },
      "source": [
        "print(reduce(menor, numeros))"
      ],
      "execution_count": 7,
      "outputs": [
        {
          "output_type": "stream",
          "text": [
            "1\n"
          ],
          "name": "stdout"
        }
      ]
    },
    {
      "cell_type": "code",
      "metadata": {
        "colab": {
          "base_uri": "https://localhost:8080/"
        },
        "id": "Dt5jN4OSbeCk",
        "outputId": "395eb03c-0751-47aa-b20c-1b54ae88b9a8"
      },
      "source": [
        "print(reduce(lambda n1, n2: n1 if n1 > n2 else n2, numeros))"
      ],
      "execution_count": 8,
      "outputs": [
        {
          "output_type": "stream",
          "text": [
            "9\n"
          ],
          "name": "stdout"
        }
      ]
    },
    {
      "cell_type": "code",
      "metadata": {
        "colab": {
          "base_uri": "https://localhost:8080/"
        },
        "id": "POYHglRDgo1S",
        "outputId": "37be5f86-8479-44fc-c83f-d2c70f433a88"
      },
      "source": [
        "seq=[2,3,4,5,6]\n",
        "multiply=reduce(lambda a,b:a*b,seq)\n",
        "print(multiply)"
      ],
      "execution_count": 32,
      "outputs": [
        {
          "output_type": "stream",
          "text": [
            "720\n"
          ],
          "name": "stdout"
        }
      ]
    },
    {
      "cell_type": "markdown",
      "metadata": {
        "id": "gQvFRaVYbkUN"
      },
      "source": [
        "### filter() - Aplica um filtro na estrutura de dados, retornando apenas os elementos que passaram por esse filtro. Recebe 2 argumentos: função e iterável."
      ]
    },
    {
      "cell_type": "markdown",
      "metadata": {
        "id": "tMT1F7ZUfFcE"
      },
      "source": [
        "<img src='https://raw.githubusercontent.com/avellar1975/puc_minas/main/img/filter.png'>\n",
        "\n",
        "> **Syntax**: filter(fun, Iter)"
      ]
    },
    {
      "cell_type": "code",
      "metadata": {
        "id": "s25mtuXlbgoY"
      },
      "source": [
        "numeros = [4, 2, 7, 1, 5, 9]"
      ],
      "execution_count": 9,
      "outputs": []
    },
    {
      "cell_type": "code",
      "metadata": {
        "id": "ey4r_GCWb1LO"
      },
      "source": [
        "def impar(num):\n",
        "    if num % 2 != 0:\n",
        "        return True\n",
        "    else:\n",
        "        return False"
      ],
      "execution_count": 11,
      "outputs": []
    },
    {
      "cell_type": "code",
      "metadata": {
        "colab": {
          "base_uri": "https://localhost:8080/"
        },
        "id": "ZFXKlxXGbmBg",
        "outputId": "41416978-2aed-4d34-ba12-5ca3770075a1"
      },
      "source": [
        "impares = list(filter(impar, numeros))\n",
        "impares"
      ],
      "execution_count": 12,
      "outputs": [
        {
          "output_type": "execute_result",
          "data": {
            "text/plain": [
              "[7, 1, 5, 9]"
            ]
          },
          "metadata": {
            "tags": []
          },
          "execution_count": 12
        }
      ]
    },
    {
      "cell_type": "code",
      "metadata": {
        "colab": {
          "base_uri": "https://localhost:8080/"
        },
        "id": "hMsUP9xGbuwQ",
        "outputId": "5bfad70e-65c3-4dfc-a99a-a36b39383763"
      },
      "source": [
        "pares = list(filter(lambda num: num%2 == 0, numeros))\n",
        "pares"
      ],
      "execution_count": 13,
      "outputs": [
        {
          "output_type": "execute_result",
          "data": {
            "text/plain": [
              "[4, 2]"
            ]
          },
          "metadata": {
            "tags": []
          },
          "execution_count": 13
        }
      ]
    },
    {
      "cell_type": "code",
      "metadata": {
        "colab": {
          "base_uri": "https://localhost:8080/"
        },
        "id": "-lblOkT5b4Gb",
        "outputId": "7541447e-ecaf-4096-c6c6-0fc80989dfbb"
      },
      "source": [
        "numeros = [-4, 2, -7, 1, -5, 9]\n",
        "positivos = list(filter(lambda num: num >= 0, numeros))\n",
        "positivos"
      ],
      "execution_count": 14,
      "outputs": [
        {
          "output_type": "execute_result",
          "data": {
            "text/plain": [
              "[2, 1, 9]"
            ]
          },
          "metadata": {
            "tags": []
          },
          "execution_count": 14
        }
      ]
    },
    {
      "cell_type": "code",
      "metadata": {
        "colab": {
          "base_uri": "https://localhost:8080/"
        },
        "id": "dAV8lK2vfTCO",
        "outputId": "69b9a8e0-82ce-4b23-d2f7-f0cf4f67c512"
      },
      "source": [
        "seq = [0, 1, 2, 3, 4, 5]\n",
        "\n",
        "# result contains odd numbers of the list\n",
        "result = filter(lambda x: x % 2, seq)\n",
        "print(list(result))\n",
        "\n",
        "# result contains even numbers of the list\n",
        "result = filter(lambda x: x % 2 == 0, seq)\n",
        "print(list(result))\n"
      ],
      "execution_count": 27,
      "outputs": [
        {
          "output_type": "stream",
          "text": [
            "[1, 3, 5]\n",
            "[0, 2, 4]\n"
          ],
          "name": "stdout"
        }
      ]
    },
    {
      "cell_type": "code",
      "metadata": {
        "id": "n-JHi2R2fekx"
      },
      "source": [
        "users = [\n",
        "    {\"username\": 'samuel', \"tweets\": [\"i love cake\", \"i am good\"]},\n",
        "    {\"username\": 'andy', \"tweets\": []},\n",
        "    {\"username\": 'kumal', \"tweets\": [\"India\", \"Python\"]},\n",
        "    {\"username\": 'sam', \"tweets\": []},\n",
        "    {\"username\": 'lokesh', \"tweets\": [\"i am good\"]},\n",
        "]"
      ],
      "execution_count": 28,
      "outputs": []
    },
    {
      "cell_type": "code",
      "metadata": {
        "colab": {
          "base_uri": "https://localhost:8080/"
        },
        "id": "prQ9l_KjfhmW",
        "outputId": "ca49ddeb-46a2-48b1-fc46-6f197bd38529"
      },
      "source": [
        "inactive_users = list(filter(lambda a:not a['tweets'], users))\n",
        "print(inactive_users)"
      ],
      "execution_count": 29,
      "outputs": [
        {
          "output_type": "stream",
          "text": [
            "[{'username': 'andy', 'tweets': []}, {'username': 'sam', 'tweets': []}]\n"
          ],
          "name": "stdout"
        }
      ]
    },
    {
      "cell_type": "code",
      "metadata": {
        "colab": {
          "base_uri": "https://localhost:8080/"
        },
        "id": "tP2pA95dfopK",
        "outputId": "0ba14495-3a09-4d80-d63f-d7829e4c2307"
      },
      "source": [
        "inactive_users=list(map(lambda x:x[\"username\"].upper(),\n",
        "                    filter(lambda a:not a['tweets'], users)))\n",
        "print(inactive_users)"
      ],
      "execution_count": 30,
      "outputs": [
        {
          "output_type": "stream",
          "text": [
            "['ANDY', 'SAM']\n"
          ],
          "name": "stdout"
        }
      ]
    },
    {
      "cell_type": "code",
      "metadata": {
        "colab": {
          "base_uri": "https://localhost:8080/"
        },
        "id": "yrkodw6WfzHk",
        "outputId": "79bafd1d-2dee-411d-8c6a-85fc59544fcd"
      },
      "source": [
        "names=['lokesh','lassie','bob','to']\n",
        "new=list(map(lambda name:f\"your name is {name}\",\n",
        "        filter(lambda x:len(x)>4,names)))\n",
        "print(new)"
      ],
      "execution_count": 31,
      "outputs": [
        {
          "output_type": "stream",
          "text": [
            "['your name is lokesh', 'your name is lassie']\n"
          ],
          "name": "stdout"
        }
      ]
    },
    {
      "cell_type": "markdown",
      "metadata": {
        "id": "AEu6WkQ-cB1V"
      },
      "source": [
        "### zip() - Combina dados de vários iteráveis, de forma que o i-ésimo elemento da tupla contenha o i-ésimo elemento de cada um dos iteráveis recebidos por parâmetro. A iteração é interrompida quando já tiver percorrido todos os elementos do menor dos iteráveis."
      ]
    },
    {
      "cell_type": "markdown",
      "metadata": {
        "id": "pjZgUH-gguI3"
      },
      "source": [
        "> **Syantax**: zip(*iterables)"
      ]
    },
    {
      "cell_type": "code",
      "metadata": {
        "colab": {
          "base_uri": "https://localhost:8080/"
        },
        "id": "UkayfQTLb6G_",
        "outputId": "439a0b77-850f-45bd-f7a1-78c65d92b648"
      },
      "source": [
        "l1 = [1, 2, 3]\n",
        "l2 = [4, 5, 6]\n",
        "l3 = [7, 8, 9]\n",
        "l4 = [10,11,12,13]\n",
        "list(zip(l1, l2))"
      ],
      "execution_count": 15,
      "outputs": [
        {
          "output_type": "execute_result",
          "data": {
            "text/plain": [
              "[(1, 4), (2, 5), (3, 6)]"
            ]
          },
          "metadata": {
            "tags": []
          },
          "execution_count": 15
        }
      ]
    },
    {
      "cell_type": "code",
      "metadata": {
        "colab": {
          "base_uri": "https://localhost:8080/"
        },
        "id": "6VIrNSXrcPjy",
        "outputId": "679d3b7f-14d2-4a43-d600-8e2a2481c8c5"
      },
      "source": [
        "list(zip(l1, l2, l3))"
      ],
      "execution_count": 16,
      "outputs": [
        {
          "output_type": "execute_result",
          "data": {
            "text/plain": [
              "[(1, 4, 7), (2, 5, 8), (3, 6, 9)]"
            ]
          },
          "metadata": {
            "tags": []
          },
          "execution_count": 16
        }
      ]
    },
    {
      "cell_type": "code",
      "metadata": {
        "colab": {
          "base_uri": "https://localhost:8080/"
        },
        "id": "VMjKRXgQcR0O",
        "outputId": "29fbbaa9-4cc2-4c0c-8bd2-f1e2781ac422"
      },
      "source": [
        "list(zip(l1, l2, l3, l4))"
      ],
      "execution_count": 17,
      "outputs": [
        {
          "output_type": "execute_result",
          "data": {
            "text/plain": [
              "[(1, 4, 7, 10), (2, 5, 8, 11), (3, 6, 9, 12)]"
            ]
          },
          "metadata": {
            "tags": []
          },
          "execution_count": 17
        }
      ]
    },
    {
      "cell_type": "code",
      "metadata": {
        "id": "4ey1VEY_cT_5"
      },
      "source": [
        "nomes = [\"Raul\", \"Bia\", \"José\"]\n",
        "idades = [32, 25, 28]\n",
        "cidades = [\"Campinas\", \"BHte\", \"João Pessoa\"]\n",
        "dados = list(zip(nomes, idades, cidades))"
      ],
      "execution_count": 18,
      "outputs": []
    },
    {
      "cell_type": "code",
      "metadata": {
        "colab": {
          "base_uri": "https://localhost:8080/"
        },
        "id": "ERyy0mLfcWXp",
        "outputId": "57489051-b074-4d0d-f1b6-5da70b7b8d78"
      },
      "source": [
        "dados"
      ],
      "execution_count": 19,
      "outputs": [
        {
          "output_type": "execute_result",
          "data": {
            "text/plain": [
              "[('Raul', 32, 'Campinas'), ('Bia', 25, 'BHte'), ('José', 28, 'João Pessoa')]"
            ]
          },
          "metadata": {
            "tags": []
          },
          "execution_count": 19
        }
      ]
    },
    {
      "cell_type": "code",
      "metadata": {
        "colab": {
          "base_uri": "https://localhost:8080/"
        },
        "id": "lj1P51fOcYvx",
        "outputId": "f6ade139-62f0-404c-de94-911f042c3baa"
      },
      "source": [
        "name = [\"Manjeet\", \"Nikhil\", \"Shambhavi\"]\n",
        "roll_no = [4, 1, 3]\n",
        "marks = [40, 50, 60]\n",
        "\n",
        "mapped = zip(name, roll_no, marks)\n",
        "\n",
        "print(list(mapped))"
      ],
      "execution_count": 33,
      "outputs": [
        {
          "output_type": "stream",
          "text": [
            "[('Manjeet', 4, 40), ('Nikhil', 1, 50), ('Shambhavi', 3, 60)]\n"
          ],
          "name": "stdout"
        }
      ]
    },
    {
      "cell_type": "code",
      "metadata": {
        "colab": {
          "base_uri": "https://localhost:8080/"
        },
        "id": "sIKigLdvg3B-",
        "outputId": "1a5bb613-cb0b-40a1-b873-b920c63f0779"
      },
      "source": [
        "name = [\"Manjeet\", \"Nikhil\", \"Shambhavi\"]\n",
        "marks = [40, 50, 60]\n",
        "\n",
        "mapped = zip(name, marks)\n",
        "\n",
        "print(dict(mapped))"
      ],
      "execution_count": 34,
      "outputs": [
        {
          "output_type": "stream",
          "text": [
            "{'Manjeet': 40, 'Nikhil': 50, 'Shambhavi': 60}\n"
          ],
          "name": "stdout"
        }
      ]
    }
  ]
}