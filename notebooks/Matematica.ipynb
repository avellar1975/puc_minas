{
  "nbformat": 4,
  "nbformat_minor": 0,
  "metadata": {
    "colab": {
      "name": "Matematica.ipynb",
      "provenance": [],
      "collapsed_sections": [],
      "authorship_tag": "ABX9TyOWU50dhWzg0qX9L68hkQk9",
      "include_colab_link": true
    },
    "kernelspec": {
      "name": "python3",
      "display_name": "Python 3"
    },
    "language_info": {
      "name": "python"
    }
  },
  "cells": [
    {
      "cell_type": "markdown",
      "metadata": {
        "id": "view-in-github",
        "colab_type": "text"
      },
      "source": [
        "<a href=\"https://colab.research.google.com/github/avellar1975/puc_minas/blob/main/notebooks/Matematica.ipynb\" target=\"_parent\"><img src=\"https://colab.research.google.com/assets/colab-badge.svg\" alt=\"Open In Colab\"/></a>"
      ]
    },
    {
      "cell_type": "markdown",
      "metadata": {
        "id": "w6cZXKmjd2sg"
      },
      "source": [
        "<img src='https://raw.githubusercontent.com/avellar1975/puc_minas/main/img/logo.png'>"
      ]
    },
    {
      "cell_type": "markdown",
      "metadata": {
        "id": "3ZfeD4JKCG71"
      },
      "source": [
        "# 📐 Matemática para Data Science \n",
        "> Para se aprofundar"
      ]
    },
    {
      "cell_type": "markdown",
      "metadata": {
        "id": "7ZmvaROpE5kg"
      },
      "source": [
        "Com o avanço da tecnologia, a quantidade de dados disponível é cada vez maior. Tal crescimento torna diversas áreas da computação desafiadoras, com a necessidade de desenvolver técnicas eficientes de armazenamento, otimizar algoritmos de machine learning para treiná-los em tempo hábil, trabalhar com computação de alta performance, entre outros desafios. Quando se chega a este nível de complexidade, entender o que está por trás dos panos passa a ser fundamental e muitos conceitos envolvidos vão além da matemática básica. Cálculo, Geometria Analítica e Álgebra Linear, são disciplinas que podem elevar seu nível de compreensão e atuação no universo da computação!"
      ]
    },
    {
      "cell_type": "code",
      "metadata": {
        "id": "SSGpbDwJXpGz"
      },
      "source": [
        "# Importando a biblioteca numpy\n",
        "import numpy as np"
      ],
      "execution_count": 7,
      "outputs": []
    },
    {
      "cell_type": "markdown",
      "metadata": {
        "id": "wvYJLQGyMnsA"
      },
      "source": [
        "## Cálculo"
      ]
    },
    {
      "cell_type": "markdown",
      "metadata": {
        "id": "ULSUPwAnPlzV"
      },
      "source": [
        "### Cálculo Diferencial, Descida de Gradiente, Cálculo Integral"
      ]
    },
    {
      "cell_type": "markdown",
      "metadata": {
        "id": "T7DQiP0qQgIq"
      },
      "source": [
        "https://pt.khanacademy.org/math/differential-calculus\n",
        "\n",
        "https://pt.khanacademy.org/math/integral-calculus\n",
        "\n",
        "https://phkonzen.github.io/notas/"
      ]
    },
    {
      "cell_type": "markdown",
      "metadata": {
        "id": "xoCFZBt2FGKp"
      },
      "source": [
        "## Geometria Analítica"
      ]
    },
    {
      "cell_type": "markdown",
      "metadata": {
        "id": "j19nM7PwRUrm"
      },
      "source": [
        "https://pt.khanacademy.org/math/geometry-home/analytic-geometry-topic\n",
        "\n",
        "https://leandrocruvinel.medium.com/geometria-anal%C3%ADtica-com-python-parte-1-90554f3e862c\n",
        "\n",
        "https://leandrocruvinel.medium.com/geometria-anal%C3%ADtica-com-python-parte-2-6ca9d7173f8\n",
        "\n",
        "https://leandrocruvinel.medium.com/geometria-anal%C3%ADtica-parte-3-a922d808e5a2"
      ]
    },
    {
      "cell_type": "code",
      "metadata": {
        "colab": {
          "base_uri": "https://localhost:8080/"
        },
        "id": "3Bj2c1jDSZ-r",
        "outputId": "e8a674ee-b261-4091-9db4-d649520ec99d"
      },
      "source": [
        "# Fórmula da distância entre dois pontos\n",
        "\n",
        "\n",
        "def distancia(xa, ya, xb, yb):\n",
        "    dx = xa - xb\n",
        "    dy = ya - yb\n",
        "    dist = (dx ** 2 + dy ** 2) ** 0.5\n",
        "    return dist\n",
        "\n",
        "distancia(-6, -4, 1, 7)"
      ],
      "execution_count": 6,
      "outputs": [
        {
          "output_type": "execute_result",
          "data": {
            "text/plain": [
              "13.038404810405298"
            ]
          },
          "metadata": {
            "tags": []
          },
          "execution_count": 6
        }
      ]
    },
    {
      "cell_type": "markdown",
      "metadata": {
        "id": "mG4JjKVYM3W8"
      },
      "source": [
        "## Álgebra Linear"
      ]
    },
    {
      "cell_type": "markdown",
      "metadata": {
        "id": "x_yrN4PNQQbb"
      },
      "source": [
        "https://pt.khanacademy.org/math/linear-algebra\n",
        "\n",
        "https://algebralinearufcg.github.io/templates/program-list.html"
      ]
    },
    {
      "cell_type": "markdown",
      "metadata": {
        "id": "vLEHdeorPfRA"
      },
      "source": [
        "### Vetores e Matrizes"
      ]
    },
    {
      "cell_type": "markdown",
      "metadata": {
        "id": "xXtnVuANYCkE"
      },
      "source": [
        "Vetor é o principal objeto de estudo de um curso de geometria analítica. Por isso, que além de estudar os conceitos envolvidos e as interpretações geométricas, as operações entre vetores são estudadas. As quatro operações mais comuns são: soma, multiplicação por escalar, produto escalar e produto misto. É possível fazer as quatro operações utilizando a biblioteca numpy."
      ]
    },
    {
      "cell_type": "code",
      "metadata": {
        "id": "rqTXiJsLZuKA"
      },
      "source": [
        "vetor_u = np.array([1, -2, 0])\n",
        "vetor_v = np.array([0, 2, 2])"
      ],
      "execution_count": 10,
      "outputs": []
    },
    {
      "cell_type": "code",
      "metadata": {
        "colab": {
          "base_uri": "https://localhost:8080/"
        },
        "id": "q5xNuQMbYB-m",
        "outputId": "80f85b1f-b68d-4550-bb98-28c92ee58561"
      },
      "source": [
        "# soma do vetor u com o vetor v\n",
        "resultado = vetor_u + vetor_v\n",
        "print(resultado)"
      ],
      "execution_count": 11,
      "outputs": [
        {
          "output_type": "stream",
          "text": [
            "[1 0 2]\n"
          ],
          "name": "stdout"
        }
      ]
    },
    {
      "cell_type": "code",
      "metadata": {
        "colab": {
          "base_uri": "https://localhost:8080/"
        },
        "id": "gedB-5D5ZdBA",
        "outputId": "bccae9c8-0340-4240-991c-3404829955eb"
      },
      "source": [
        "# multiplicação do vetor u pelo escalar 7\n",
        "resultado = 7 * vetor_u\n",
        "print(resultado)"
      ],
      "execution_count": 12,
      "outputs": [
        {
          "output_type": "stream",
          "text": [
            "[  7 -14   0]\n"
          ],
          "name": "stdout"
        }
      ]
    },
    {
      "cell_type": "code",
      "metadata": {
        "colab": {
          "base_uri": "https://localhost:8080/"
        },
        "id": "5O4dPI-FZrf_",
        "outputId": "82fcab21-1eb9-4cbc-aaf7-77f02e21a053"
      },
      "source": [
        "# produto escalar de u com v\n",
        "resultado = np.dot(vetor_u, vetor_v)\n",
        "print(resultado)"
      ],
      "execution_count": 13,
      "outputs": [
        {
          "output_type": "stream",
          "text": [
            "-4\n"
          ],
          "name": "stdout"
        }
      ]
    },
    {
      "cell_type": "code",
      "metadata": {
        "colab": {
          "base_uri": "https://localhost:8080/"
        },
        "id": "6wX81vWtaBgX",
        "outputId": "99b6a24b-9961-4678-96db-dc0b77beb173"
      },
      "source": [
        "# produto vetorial de u com v\n",
        "resultado = np.cross(vetor_u, vetor_v)\n",
        "print(resultado)"
      ],
      "execution_count": 14,
      "outputs": [
        {
          "output_type": "stream",
          "text": [
            "[-4 -2  2]\n"
          ],
          "name": "stdout"
        }
      ]
    },
    {
      "cell_type": "code",
      "metadata": {
        "id": "6yk7O7YuaKjI"
      },
      "source": [
        ""
      ],
      "execution_count": null,
      "outputs": []
    }
  ]
}